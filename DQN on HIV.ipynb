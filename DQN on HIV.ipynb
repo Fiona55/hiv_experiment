{
 "cells": [
  {
   "cell_type": "code",
   "execution_count": 1,
   "id": "a9122420",
   "metadata": {},
   "outputs": [],
   "source": [
    "import numpy as np\n",
    "import matplotlib.pyplot as plt\n",
    "%matplotlib inline"
   ]
  },
  {
   "cell_type": "code",
   "execution_count": 2,
   "id": "29eba8da",
   "metadata": {},
   "outputs": [],
   "source": [
    "from hiv_patient import HIVPatient"
   ]
  },
  {
   "cell_type": "markdown",
   "id": "489b52c1",
   "metadata": {},
   "source": [
    "# Simulate and store transitions"
   ]
  },
  {
   "cell_type": "code",
   "execution_count": null,
   "id": "1f4f2309",
   "metadata": {},
   "outputs": [],
   "source": []
  }
 ],
 "metadata": {
  "kernelspec": {
   "display_name": "Python 3",
   "language": "python",
   "name": "python3"
  },
  "language_info": {
   "codemirror_mode": {
    "name": "ipython",
    "version": 3
   },
   "file_extension": ".py",
   "mimetype": "text/x-python",
   "name": "python",
   "nbconvert_exporter": "python",
   "pygments_lexer": "ipython3",
   "version": "3.8.8"
  },
  "toc": {
   "base_numbering": 1,
   "nav_menu": {},
   "number_sections": true,
   "sideBar": true,
   "skip_h1_title": false,
   "title_cell": "Table of Contents",
   "title_sidebar": "Contents",
   "toc_cell": false,
   "toc_position": {},
   "toc_section_display": true,
   "toc_window_display": true
  }
 },
 "nbformat": 4,
 "nbformat_minor": 5
}
